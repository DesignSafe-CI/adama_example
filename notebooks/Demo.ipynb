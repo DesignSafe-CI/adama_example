{
 "cells": [
  {
   "cell_type": "markdown",
   "metadata": {},
   "source": [
    "# Adama example for DesignSafe-CI"
   ]
  },
  {
   "cell_type": "markdown",
   "metadata": {},
   "source": [
    "This is an example of building an Adama service.  We use the Haiti Earthquake Database and we construct a couple of web services from the data hosted at https://nees.org/dataview/spreadsheet/haiti."
   ]
  },
  {
   "cell_type": "markdown",
   "metadata": {},
   "source": [
    "## Setting up"
   ]
  },
  {
   "cell_type": "markdown",
   "metadata": {},
   "source": [
    "The code for these services is in the directory `demo`:"
   ]
  },
  {
   "cell_type": "code",
   "execution_count": 1,
   "metadata": {
    "collapsed": false
   },
   "outputs": [
    {
     "name": "stdout",
     "output_type": "stream",
     "text": [
      "/data/local/demo\n"
     ]
    }
   ],
   "source": [
    "cd demo"
   ]
  },
  {
   "cell_type": "markdown",
   "metadata": {},
   "source": [
    "We will construct two web services that will return the data in JSON format:\n",
    "\n",
    "- `haiti`: will allow to query the database by building,\n",
    "- `haiti_images`: will allow to retrieve the set of images for each building."
   ]
  },
  {
   "cell_type": "markdown",
   "metadata": {},
   "source": [
    "Each Adama service consists in two pieces of information:\n",
    "\n",
    "- the metadata that describes the service,\n",
    "- and the actual code."
   ]
  },
  {
   "cell_type": "markdown",
   "metadata": {},
   "source": [
    "This is an example of the metadata for the `haiti` service:"
   ]
  },
  {
   "cell_type": "code",
   "execution_count": null,
   "metadata": {
    "collapsed": false
   },
   "outputs": [],
   "source": [
    "%load services/haiti/metadata.yml"
   ]
  },
  {
   "cell_type": "markdown",
   "metadata": {},
   "source": [
    "The code for the service looks very simple:"
   ]
  },
  {
   "cell_type": "code",
   "execution_count": null,
   "metadata": {
    "collapsed": true
   },
   "outputs": [],
   "source": [
    "%load services/haiti/main.py"
   ]
  },
  {
   "cell_type": "markdown",
   "metadata": {},
   "source": [
    "## Interacting with Adama"
   ]
  },
  {
   "cell_type": "markdown",
   "metadata": {},
   "source": [
    "To interact with Adama, we create an object with our credentials:"
   ]
  },
  {
   "cell_type": "code",
   "execution_count": 9,
   "metadata": {
    "collapsed": true
   },
   "outputs": [],
   "source": [
    "import adamalib\n",
    "\n",
    "adama = adamalib.Adama('https://api.araport.org/community/v0.3',   # we use Araport for this example\n",
    "                       token='TOKEN')                              # here goes your credentials"
   ]
  },
  {
   "cell_type": "markdown",
   "metadata": {},
   "source": [
    "Now the `adama` object is connected to the server.  We can check that the server is up:"
   ]
  },
  {
   "cell_type": "code",
   "execution_count": 10,
   "metadata": {
    "collapsed": false
   },
   "outputs": [
    {
     "data": {
      "text/plain": [
       "{u'api': u'Adama v0.3',\n",
       " u'hash': u'1f5e292b0df113c7e36bad18ad0f11184610e187',\n",
       " u'status': u'success'}"
      ]
     },
     "execution_count": 10,
     "metadata": {},
     "output_type": "execute_result"
    }
   ],
   "source": [
    "adama.status"
   ]
  },
  {
   "cell_type": "markdown",
   "metadata": {},
   "source": [
    "## Testing the new services locally"
   ]
  },
  {
   "cell_type": "markdown",
   "metadata": {},
   "source": [
    "The services we are going to register in Adama can be tested first locally:"
   ]
  },
  {
   "cell_type": "code",
   "execution_count": 11,
   "metadata": {
    "collapsed": false
   },
   "outputs": [
    {
     "name": "stdout",
     "output_type": "stream",
     "text": [
      "{\n",
      "    \"Effective  Wall Area\": \"0\", \n",
      "    \"Captive  Columns\": \"Y\", \n",
      "    \"Priority Index  [%]\": \"0.17\", \n",
      "    \"Pictures\": \"https://nees.org/site/collections/haiti/mainpics/A001.JPG\", \n",
      "    \"Masonry Wall  Area E-W [ft\\u00b2]\": \"102\", \n",
      "    \"Latitude\": \"18\\u00b0 33' 16.1\\\" N\", \n",
      "    \"Concrete Wall  Area N-S [ft\\u00b2]\": \"0\", \n",
      "    \"Total Floor Area  [ft\\u00b2]\": \"19321\", \n",
      "    \"First Floor Area  [ft\\u00b2]\": \"9661\", \n",
      "    \"Diagram\": \"https://nees.org/site/collections/haiti/Diagrams/A001-Diagram.pdf\", \n",
      "    \"Concrete Wall  Area E-W [ft\\u00b2]\": \"0\", \n",
      "    \"Photographer\": \"Steeve\", \n",
      "    \"Date\": \"26-Jun\", \n",
      "    \"Building\": \"A001\", \n",
      "    \"Column Index  [%]\": \"0.17\", \n",
      "    \"Masonry Wall  Damage\": \"Severe\", \n",
      "    \"Notes\": \"Pic. 1544 for arch. Detail on E. side/ ~2\\\" mortar cover on bldg. cols.\", \n",
      "    \"Permenant  Drift\": \"N\", \n",
      "    \"Ace  [ft\\u00b2]\": \"33\", \n",
      "    \"Longitude\": \"72\\u00b0 18' 12.1\\\" W\", \n",
      "    \"Roof  Type\": \"Concrete\", \n",
      "    \"Masonry Wall  Area N-S [ft\\u00b2]\": \"0\", \n",
      "    \"Wall Index  [%]\": \"0\", \n",
      "    \"Team\": \"A\", \n",
      "    \"Column Area  [ft\\u00b2]\": \"67\", \n",
      "    \"Number\": \"1\", \n",
      "    \"Number of  Floors\": \"2\", \n",
      "    \"Reinforced  Concrete Damage\": \"Severe\"\n",
      "}\n",
      "---\n"
     ]
    }
   ],
   "source": [
    "import services.haiti.main\n",
    "\n",
    "services.haiti.main.search({'building': 'A001'}, adama)"
   ]
  },
  {
   "cell_type": "markdown",
   "metadata": {},
   "source": [
    "## Registering the services in Adama"
   ]
  },
  {
   "cell_type": "markdown",
   "metadata": {},
   "source": [
    "Now we are ready to register the services in Adama.  We'll use the namespace `walter-dev` for testing purposes:"
   ]
  },
  {
   "cell_type": "code",
   "execution_count": 12,
   "metadata": {
    "collapsed": false
   },
   "outputs": [
    {
     "data": {
      "text/plain": [
       "[Service(/walter-dev/araport11_to_json_v0.1),\n",
       " Service(/walter-dev/smallrna_v0.1),\n",
       " Service(/walter-dev/haiti_images_v0.1),\n",
       " Service(/walter-dev/strandinfo_v0.5),\n",
       " Service(/walter-dev/at_abundances_v0.1),\n",
       " Service(/walter-dev/expression_per_gene_tissue_01_v0.1),\n",
       " Service(/walter-dev/at_srna_docs_v0.1),\n",
       " Service(/walter-dev/gene-api_main_v0.1),\n",
       " Service(/walter-dev/atted_coexpressed_by_locus_v0.2.0),\n",
       " Service(/walter-dev/smallrna_v2),\n",
       " Service(/walter-dev/expression_condition_comparison_v0.1),\n",
       " Service(/walter-dev/haiti_v0.1),\n",
       " Service(/walter-dev/expression_per_gene_tissue_04_v0.1)]"
      ]
     },
     "execution_count": 12,
     "metadata": {},
     "output_type": "execute_result"
    }
   ],
   "source": [
    "adama['walter-dev'].services"
   ]
  },
  {
   "cell_type": "markdown",
   "metadata": {},
   "source": [
    "To register a service, we just import its code and add it to the previous list (it may take a minute or two):"
   ]
  },
  {
   "cell_type": "code",
   "execution_count": null,
   "metadata": {
    "collapsed": false,
    "scrolled": false
   },
   "outputs": [],
   "source": [
    "import services.haiti.main            # the haiti service\n",
    "import services.haiti_images.main     # the haiti_images service\n",
    "\n",
    "haiti = adama['walter-dev'].services.add(services.haiti.main)\n",
    "haiti_images = adama['walter-dev'].services.add(services.haiti_images.main)\n",
    "\n",
    "haiti, haiti_images"
   ]
  },
  {
   "cell_type": "markdown",
   "metadata": {},
   "source": [
    "The services are registered and can be accessed in https://araport.org.\n",
    "\n",
    "But they can also be tested using the service object via Python.  Note that now the code will be executed remotely in the Adama server:"
   ]
  },
  {
   "cell_type": "code",
   "execution_count": null,
   "metadata": {
    "collapsed": true
   },
   "outputs": [],
   "source": [
    "haiti.search(building='A001')"
   ]
  },
  {
   "cell_type": "code",
   "execution_count": null,
   "metadata": {
    "collapsed": true
   },
   "outputs": [],
   "source": [
    "from IPython.display import Image\n",
    "\n",
    "Image(data=haiti_images.search(building='A001', image=1).content)"
   ]
  }
 ],
 "metadata": {
  "kernelspec": {
   "display_name": "Python 2",
   "language": "python",
   "name": "python2"
  },
  "language_info": {
   "codemirror_mode": {
    "name": "ipython",
    "version": 2
   },
   "file_extension": ".py",
   "mimetype": "text/x-python",
   "name": "python",
   "nbconvert_exporter": "python",
   "pygments_lexer": "ipython2",
   "version": "2.7.6"
  }
 },
 "nbformat": 4,
 "nbformat_minor": 0
}
