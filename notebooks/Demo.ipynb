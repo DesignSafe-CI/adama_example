{
 "cells": [
  {
   "cell_type": "markdown",
   "metadata": {},
   "source": [
    "# Adama example for DesignSafe-CI"
   ]
  },
  {
   "cell_type": "markdown",
   "metadata": {},
   "source": [
    "This is an example of building an Adama service.  We use the Haiti Earthquake Database and we construct a couple of web services from the data hosted at https://nees.org/dataview/spreadsheet/haiti."
   ]
  },
  {
   "cell_type": "markdown",
   "metadata": {},
   "source": [
    "## Setting up"
   ]
  },
  {
   "cell_type": "markdown",
   "metadata": {},
   "source": [
    "The code for these services is in the directory `demo`:"
   ]
  },
  {
   "cell_type": "code",
   "execution_count": 12,
   "metadata": {
    "collapsed": false
   },
   "outputs": [
    {
     "name": "stdout",
     "output_type": "stream",
     "text": [
      "/data/local/demo\n"
     ]
    }
   ],
   "source": [
    "cd demo"
   ]
  },
  {
   "cell_type": "markdown",
   "metadata": {},
   "source": [
    "We will construct two web services that will return the data in JSON format:\n",
    "\n",
    "- `haiti`: will allow to query the database by building,\n",
    "- `haiti_images`: will allow to retrieve the set of images for each building."
   ]
  },
  {
   "cell_type": "markdown",
   "metadata": {},
   "source": [
    "Each Adama service consists in two pieces of information:\n",
    "\n",
    "- the metadata that describes the service,\n",
    "- and the actual code."
   ]
  },
  {
   "cell_type": "markdown",
   "metadata": {},
   "source": [
    "This is an example of the metadata for the `haiti` service:"
   ]
  },
  {
   "cell_type": "code",
   "execution_count": null,
   "metadata": {
    "collapsed": false
   },
   "outputs": [],
   "source": [
    "%load services/haiti/metadata.yml"
   ]
  },
  {
   "cell_type": "markdown",
   "metadata": {},
   "source": [
    "The code for the service looks very simple:"
   ]
  },
  {
   "cell_type": "code",
   "execution_count": null,
   "metadata": {
    "collapsed": false
   },
   "outputs": [],
   "source": [
    "%%writefile services/haiti/main.py\n",
    "import json\n",
    "\n",
    "import services.common.tools as t\n",
    "\n",
    "\n",
    "def search(args, adama):\n",
    "    \"\"\"Search database by building id.\"\"\"\n",
    "\n",
    "    building_id = args['building']\n",
    "    for row in t.HAITI_DB:\n",
    "        if row['Building'].startswith(building_id):\n",
    "            print json.dumps(row, indent=4)\n",
    "            print '---'\n",
    "        \n",
    "\n",
    "def list(args, adama):\n",
    "    \"\"\"List all rows.\"\"\"\n",
    "\n",
    "    for row in t.HAITI_DB:\n",
    "        print json.dumps(row, indent=4)\n",
    "        print '---'\n"
   ]
  },
  {
   "cell_type": "markdown",
   "metadata": {},
   "source": [
    "## Interacting with Adama"
   ]
  },
  {
   "cell_type": "markdown",
   "metadata": {},
   "source": [
    "To interact with Adama, we create an object with our credentials:"
   ]
  },
  {
   "cell_type": "code",
   "execution_count": 5,
   "metadata": {
    "collapsed": true
   },
   "outputs": [],
   "source": [
    "import adamalib\n",
    "\n",
    "adama = adamalib.Adama('https://api.araport.org/community/v0.3',   # we use Araport for this example\n",
    "                       token='474af9d41c8ecc873191ea97153857')                              # here goes your credentials"
   ]
  },
  {
   "cell_type": "markdown",
   "metadata": {},
   "source": [
    "Now the `adama` object is connected to the server.  We can check that the server is up:"
   ]
  },
  {
   "cell_type": "code",
   "execution_count": 6,
   "metadata": {
    "collapsed": false
   },
   "outputs": [
    {
     "data": {
      "text/plain": [
       "{u'api': u'Adama v0.3',\n",
       " u'hash': u'1f5e292b0df113c7e36bad18ad0f11184610e187',\n",
       " u'status': u'success'}"
      ]
     },
     "execution_count": 6,
     "metadata": {},
     "output_type": "execute_result"
    }
   ],
   "source": [
    "adama.status"
   ]
  },
  {
   "cell_type": "markdown",
   "metadata": {},
   "source": [
    "## Testing the new services locally"
   ]
  },
  {
   "cell_type": "markdown",
   "metadata": {},
   "source": [
    "The services we are going to register in Adama can be tested first locally:"
   ]
  },
  {
   "cell_type": "code",
   "execution_count": 11,
   "metadata": {
    "collapsed": false
   },
   "outputs": [
    {
     "name": "stdout",
     "output_type": "stream",
     "text": [
      "{\n",
      "    \"Effective  Wall Area\": \"0\", \n",
      "    \"Captive  Columns\": \"Y\", \n",
      "    \"Priority Index  [%]\": \"0.17\", \n",
      "    \"Pictures\": \"https://nees.org/site/collections/haiti/mainpics/A001.JPG\", \n",
      "    \"Masonry Wall  Area E-W [ft\\u00b2]\": \"102\", \n",
      "    \"Latitude\": \"18\\u00b0 33' 16.1\\\" N\", \n",
      "    \"Concrete Wall  Area N-S [ft\\u00b2]\": \"0\", \n",
      "    \"Total Floor Area  [ft\\u00b2]\": \"19321\", \n",
      "    \"First Floor Area  [ft\\u00b2]\": \"9661\", \n",
      "    \"Diagram\": \"https://nees.org/site/collections/haiti/Diagrams/A001-Diagram.pdf\", \n",
      "    \"Concrete Wall  Area E-W [ft\\u00b2]\": \"0\", \n",
      "    \"Photographer\": \"Steeve\", \n",
      "    \"Date\": \"26-Jun\", \n",
      "    \"Building\": \"A001\", \n",
      "    \"Column Index  [%]\": \"0.17\", \n",
      "    \"Masonry Wall  Damage\": \"Severe\", \n",
      "    \"Notes\": \"Pic. 1544 for arch. Detail on E. side/ ~2\\\" mortar cover on bldg. cols.\", \n",
      "    \"Permenant  Drift\": \"N\", \n",
      "    \"Ace  [ft\\u00b2]\": \"33\", \n",
      "    \"Longitude\": \"72\\u00b0 18' 12.1\\\" W\", \n",
      "    \"Roof  Type\": \"Concrete\", \n",
      "    \"Masonry Wall  Area N-S [ft\\u00b2]\": \"0\", \n",
      "    \"Wall Index  [%]\": \"0\", \n",
      "    \"Team\": \"A\", \n",
      "    \"Column Area  [ft\\u00b2]\": \"67\", \n",
      "    \"Number\": \"1\", \n",
      "    \"Number of  Floors\": \"2\", \n",
      "    \"Reinforced  Concrete Damage\": \"Severe\"\n",
      "}\n",
      "---\n"
     ]
    }
   ],
   "source": [
    "import services.haiti.main\n",
    "\n",
    "services.haiti.main.search({'building': 'A001'}, adama)"
   ]
  },
  {
   "cell_type": "markdown",
   "metadata": {},
   "source": [
    "## Registering the services in Adama"
   ]
  },
  {
   "cell_type": "markdown",
   "metadata": {},
   "source": [
    "Now we are ready to register the services in Adama.  We'll use the namespace `walter-dev` for testing purposes:"
   ]
  },
  {
   "cell_type": "code",
   "execution_count": 12,
   "metadata": {
    "collapsed": false
   },
   "outputs": [
    {
     "data": {
      "text/plain": [
       "[Service(/walter-dev/araport11_to_json_v0.1),\n",
       " Service(/walter-dev/smallrna_v0.1),\n",
       " Service(/walter-dev/haiti_images_v0.1),\n",
       " Service(/walter-dev/strandinfo_v0.5),\n",
       " Service(/walter-dev/at_abundances_v0.1),\n",
       " Service(/walter-dev/expression_per_gene_tissue_01_v0.1),\n",
       " Service(/walter-dev/at_srna_docs_v0.1),\n",
       " Service(/walter-dev/gene-api_main_v0.1),\n",
       " Service(/walter-dev/atted_coexpressed_by_locus_v0.2.0),\n",
       " Service(/walter-dev/smallrna_v2),\n",
       " Service(/walter-dev/expression_condition_comparison_v0.1),\n",
       " Service(/walter-dev/haiti_v0.1),\n",
       " Service(/walter-dev/expression_per_gene_tissue_04_v0.1)]"
      ]
     },
     "execution_count": 12,
     "metadata": {},
     "output_type": "execute_result"
    }
   ],
   "source": [
    "adama['walter-dev'].services"
   ]
  },
  {
   "cell_type": "markdown",
   "metadata": {},
   "source": [
    "To register a service, we just import its code and add it to the previous list (it may take a minute or two):"
   ]
  },
  {
   "cell_type": "code",
   "execution_count": null,
   "metadata": {
    "collapsed": false,
    "scrolled": false
   },
   "outputs": [],
   "source": [
    "import services.haiti.main            # the haiti service\n",
    "import services.haiti_images.main     # the haiti_images service\n",
    "\n",
    "haiti = adama['walter-dev'].services.add(services.haiti.main)\n",
    "haiti_images = adama['walter-dev'].services.add(services.haiti_images.main)\n",
    "\n",
    "haiti, haiti_images"
   ]
  },
  {
   "cell_type": "markdown",
   "metadata": {},
   "source": [
    "The services are registered and can be accessed in https://araport.org.\n",
    "\n",
    "But they can also be tested using the service object via Python.  Note that now the code will be executed remotely in the Adama server:"
   ]
  },
  {
   "cell_type": "code",
   "execution_count": null,
   "metadata": {
    "collapsed": true
   },
   "outputs": [],
   "source": [
    "haiti.search(building='A001')"
   ]
  },
  {
   "cell_type": "code",
   "execution_count": null,
   "metadata": {
    "collapsed": true
   },
   "outputs": [],
   "source": [
    "from IPython.display import Image\n",
    "\n",
    "Image(data=haiti_images.search(building='A001', image=1).content)"
   ]
  },
  {
   "cell_type": "markdown",
   "metadata": {},
   "source": [
    "## Using the services"
   ]
  },
  {
   "cell_type": "markdown",
   "metadata": {},
   "source": [
    "Now that the services are registered in Adama, and the Python objects `haiti` and `haiti_images` are connected to the **remote** services, we can use them as regular objects."
   ]
  },
  {
   "cell_type": "code",
   "execution_count": 19,
   "metadata": {
    "collapsed": false
   },
   "outputs": [
    {
     "name": "stdout",
     "output_type": "stream",
     "text": [
      "Collecting pandas\n",
      "  Downloading pandas-0.16.2.tar.gz (4.9MB)\n",
      "\u001b[K    100% |████████████████████████████████| 4.9MB 137kB/s \n",
      "\u001b[?25hRequirement already satisfied (use --upgrade to upgrade): python-dateutil in /usr/local/lib/python2.7/dist-packages (from pandas)\n",
      "Collecting pytz>=2011k (from pandas)\n",
      "  Downloading pytz-2015.4-py2.py3-none-any.whl (475kB)\n",
      "\u001b[K    100% |████████████████████████████████| 475kB 1.1MB/s \n",
      "\u001b[?25hCollecting numpy>=1.7.0 (from pandas)\n",
      "  Downloading numpy-1.9.2.tar.gz (4.0MB)\n",
      "\u001b[K    100% |████████████████████████████████| 4.0MB 165kB/s \n",
      "\u001b[?25hRequirement already satisfied (use --upgrade to upgrade): six>=1.5 in /usr/local/lib/python2.7/dist-packages (from python-dateutil->pandas)\n",
      "Building wheels for collected packages: pandas, numpy\n",
      "  Running setup.py bdist_wheel for pandas\n",
      "  Stored in directory: /root/.cache/pip/wheels/e5/1e/7a/d077ee541ea1e5a58df866719f9d837d5921afb4e9bf9b9e8d\n",
      "  Running setup.py bdist_wheel for numpy\n",
      "  Stored in directory: /root/.cache/pip/wheels/4b/cb/75/2cf74e8d40c2f6e466c621d598769f961bbb0feac948013dfb\n",
      "Successfully built pandas numpy\n",
      "Installing collected packages: pytz, numpy, pandas\n",
      "Successfully installed numpy-1.9.2 pandas-0.16.2 pytz-2015.4\n"
     ]
    }
   ],
   "source": [
    "!pip install pandas"
   ]
  },
  {
   "cell_type": "code",
   "execution_count": 21,
   "metadata": {
    "collapsed": true
   },
   "outputs": [],
   "source": [
    "from pandas import DataFrame\n",
    "x = DataFrame([[1,2], [2,3]], index=['Foo', 'Bar'], columns=['ds','sf'])"
   ]
  },
  {
   "cell_type": "code",
   "execution_count": 7,
   "metadata": {
    "collapsed": true
   },
   "outputs": [],
   "source": [
    "haiti = adama['walter-dev'].haiti\n",
    "haiti_images = adama['walter-dev'].haiti_images"
   ]
  },
  {
   "cell_type": "markdown",
   "metadata": {},
   "source": [
    "Let's display the table of buildings together with their geographical coordinates:"
   ]
  },
  {
   "cell_type": "code",
   "execution_count": 29,
   "metadata": {
    "collapsed": false
   },
   "outputs": [
    {
     "data": {
      "text/html": [
       "<div>\n",
       "<table border=\"1\" class=\"dataframe\">\n",
       "  <thead>\n",
       "    <tr style=\"text-align: right;\">\n",
       "      <th></th>\n",
       "      <th>Building</th>\n",
       "      <th>Latitude</th>\n",
       "      <th>Longitude</th>\n",
       "    </tr>\n",
       "  </thead>\n",
       "  <tbody>\n",
       "    <tr>\n",
       "      <th>0</th>\n",
       "      <td>A001</td>\n",
       "      <td>18.55447</td>\n",
       "      <td>-72.30336</td>\n",
       "    </tr>\n",
       "    <tr>\n",
       "      <th>1</th>\n",
       "      <td>A002</td>\n",
       "      <td>18.55436</td>\n",
       "      <td>-72.30297</td>\n",
       "    </tr>\n",
       "    <tr>\n",
       "      <th>2</th>\n",
       "      <td>A003(1)</td>\n",
       "      <td>18.51167</td>\n",
       "      <td>-72.28739</td>\n",
       "    </tr>\n",
       "    <tr>\n",
       "      <th>3</th>\n",
       "      <td>A003(2)</td>\n",
       "      <td>18.51167</td>\n",
       "      <td>-72.28739</td>\n",
       "    </tr>\n",
       "    <tr>\n",
       "      <th>4</th>\n",
       "      <td>A005</td>\n",
       "      <td>18.51811</td>\n",
       "      <td>-72.28222</td>\n",
       "    </tr>\n",
       "    <tr>\n",
       "      <th>5</th>\n",
       "      <td>A006</td>\n",
       "      <td>18.54864</td>\n",
       "      <td>-72.30319</td>\n",
       "    </tr>\n",
       "    <tr>\n",
       "      <th>6</th>\n",
       "      <td>A007</td>\n",
       "      <td>18.54892</td>\n",
       "      <td>-72.30386</td>\n",
       "    </tr>\n",
       "    <tr>\n",
       "      <th>7</th>\n",
       "      <td>A008</td>\n",
       "      <td>18.54881</td>\n",
       "      <td>-72.30683</td>\n",
       "    </tr>\n",
       "    <tr>\n",
       "      <th>8</th>\n",
       "      <td>A009</td>\n",
       "      <td></td>\n",
       "      <td></td>\n",
       "    </tr>\n",
       "    <tr>\n",
       "      <th>9</th>\n",
       "      <td>A010</td>\n",
       "      <td>18.55094</td>\n",
       "      <td>-72.30825</td>\n",
       "    </tr>\n",
       "    <tr>\n",
       "      <th>10</th>\n",
       "      <td>A011</td>\n",
       "      <td>18.55408</td>\n",
       "      <td>-72.30856</td>\n",
       "    </tr>\n",
       "    <tr>\n",
       "      <th>11</th>\n",
       "      <td>A012</td>\n",
       "      <td>18.54014</td>\n",
       "      <td>-72.31733</td>\n",
       "    </tr>\n",
       "    <tr>\n",
       "      <th>12</th>\n",
       "      <td>A013</td>\n",
       "      <td>18.53969</td>\n",
       "      <td>-72.34169</td>\n",
       "    </tr>\n",
       "    <tr>\n",
       "      <th>13</th>\n",
       "      <td>A014</td>\n",
       "      <td>18.53825</td>\n",
       "      <td>-72.33989</td>\n",
       "    </tr>\n",
       "    <tr>\n",
       "      <th>14</th>\n",
       "      <td>A015</td>\n",
       "      <td>18.53694</td>\n",
       "      <td>-72.33358</td>\n",
       "    </tr>\n",
       "    <tr>\n",
       "      <th>15</th>\n",
       "      <td>A016</td>\n",
       "      <td></td>\n",
       "      <td></td>\n",
       "    </tr>\n",
       "    <tr>\n",
       "      <th>16</th>\n",
       "      <td>A017</td>\n",
       "      <td>18.51111</td>\n",
       "      <td>-72.63294</td>\n",
       "    </tr>\n",
       "    <tr>\n",
       "      <th>17</th>\n",
       "      <td>A018</td>\n",
       "      <td>18.50956</td>\n",
       "      <td>-72.63264</td>\n",
       "    </tr>\n",
       "    <tr>\n",
       "      <th>18</th>\n",
       "      <td>A019</td>\n",
       "      <td>18.50836</td>\n",
       "      <td>-72.63169</td>\n",
       "    </tr>\n",
       "    <tr>\n",
       "      <th>19</th>\n",
       "      <td>A020</td>\n",
       "      <td>18.50964</td>\n",
       "      <td>-72.63114</td>\n",
       "    </tr>\n",
       "    <tr>\n",
       "      <th>20</th>\n",
       "      <td>A021</td>\n",
       "      <td>18.51208</td>\n",
       "      <td>-72.63033</td>\n",
       "    </tr>\n",
       "    <tr>\n",
       "      <th>21</th>\n",
       "      <td>A022</td>\n",
       "      <td>18.51119</td>\n",
       "      <td>-72.63119</td>\n",
       "    </tr>\n",
       "    <tr>\n",
       "      <th>22</th>\n",
       "      <td>A023</td>\n",
       "      <td>18.56256</td>\n",
       "      <td>-72.29483</td>\n",
       "    </tr>\n",
       "    <tr>\n",
       "      <th>23</th>\n",
       "      <td>A024</td>\n",
       "      <td>18.56181</td>\n",
       "      <td>-72.29322</td>\n",
       "    </tr>\n",
       "    <tr>\n",
       "      <th>24</th>\n",
       "      <td>A025(1)</td>\n",
       "      <td>18.53517</td>\n",
       "      <td>-72.32686</td>\n",
       "    </tr>\n",
       "    <tr>\n",
       "      <th>25</th>\n",
       "      <td>A025(2)</td>\n",
       "      <td>18.53517</td>\n",
       "      <td>-72.32686</td>\n",
       "    </tr>\n",
       "    <tr>\n",
       "      <th>26</th>\n",
       "      <td>A025(3)</td>\n",
       "      <td>18.53517</td>\n",
       "      <td>-72.32686</td>\n",
       "    </tr>\n",
       "    <tr>\n",
       "      <th>27</th>\n",
       "      <td>A025(4)</td>\n",
       "      <td>18.53517</td>\n",
       "      <td>-72.32686</td>\n",
       "    </tr>\n",
       "    <tr>\n",
       "      <th>28</th>\n",
       "      <td>A026</td>\n",
       "      <td>18.53564</td>\n",
       "      <td>-72.32503</td>\n",
       "    </tr>\n",
       "    <tr>\n",
       "      <th>29</th>\n",
       "      <td>A027</td>\n",
       "      <td>18.53886</td>\n",
       "      <td>-72.32236</td>\n",
       "    </tr>\n",
       "    <tr>\n",
       "      <th>...</th>\n",
       "      <td>...</td>\n",
       "      <td>...</td>\n",
       "      <td>...</td>\n",
       "    </tr>\n",
       "    <tr>\n",
       "      <th>152</th>\n",
       "      <td>D035</td>\n",
       "      <td>18.53986</td>\n",
       "      <td>-72.33892</td>\n",
       "    </tr>\n",
       "    <tr>\n",
       "      <th>153</th>\n",
       "      <td>D041</td>\n",
       "      <td>18.53589</td>\n",
       "      <td>-72.3315</td>\n",
       "    </tr>\n",
       "    <tr>\n",
       "      <th>154</th>\n",
       "      <td>D044</td>\n",
       "      <td>18.51533</td>\n",
       "      <td>-72.63406</td>\n",
       "    </tr>\n",
       "    <tr>\n",
       "      <th>155</th>\n",
       "      <td>D045</td>\n",
       "      <td>18.51544</td>\n",
       "      <td>-72.63503</td>\n",
       "    </tr>\n",
       "    <tr>\n",
       "      <th>156</th>\n",
       "      <td>D046</td>\n",
       "      <td>18.51281</td>\n",
       "      <td>-72.63436</td>\n",
       "    </tr>\n",
       "    <tr>\n",
       "      <th>157</th>\n",
       "      <td>D047</td>\n",
       "      <td>18.51311</td>\n",
       "      <td>-72.63442</td>\n",
       "    </tr>\n",
       "    <tr>\n",
       "      <th>158</th>\n",
       "      <td>D048</td>\n",
       "      <td>18.51028</td>\n",
       "      <td>-72.63189</td>\n",
       "    </tr>\n",
       "    <tr>\n",
       "      <th>159</th>\n",
       "      <td>D049</td>\n",
       "      <td>18.5105</td>\n",
       "      <td>-72.63161</td>\n",
       "    </tr>\n",
       "    <tr>\n",
       "      <th>160</th>\n",
       "      <td>D050</td>\n",
       "      <td>18.50964</td>\n",
       "      <td>-72.63114</td>\n",
       "    </tr>\n",
       "    <tr>\n",
       "      <th>161</th>\n",
       "      <td>D051</td>\n",
       "      <td>18.50836</td>\n",
       "      <td>-72.63125</td>\n",
       "    </tr>\n",
       "    <tr>\n",
       "      <th>162</th>\n",
       "      <td>D052</td>\n",
       "      <td>18.51308</td>\n",
       "      <td>-72.63014</td>\n",
       "    </tr>\n",
       "    <tr>\n",
       "      <th>163</th>\n",
       "      <td>D053</td>\n",
       "      <td>18.51264</td>\n",
       "      <td>-72.63097</td>\n",
       "    </tr>\n",
       "    <tr>\n",
       "      <th>164</th>\n",
       "      <td>D054A</td>\n",
       "      <td>18.50878</td>\n",
       "      <td>-72.62767</td>\n",
       "    </tr>\n",
       "    <tr>\n",
       "      <th>165</th>\n",
       "      <td>D054B</td>\n",
       "      <td>18.50878</td>\n",
       "      <td>-72.62767</td>\n",
       "    </tr>\n",
       "    <tr>\n",
       "      <th>166</th>\n",
       "      <td>D055</td>\n",
       "      <td>18.56322</td>\n",
       "      <td>-72.29569</td>\n",
       "    </tr>\n",
       "    <tr>\n",
       "      <th>167</th>\n",
       "      <td>D056</td>\n",
       "      <td>18.56308</td>\n",
       "      <td>-72.29578</td>\n",
       "    </tr>\n",
       "    <tr>\n",
       "      <th>168</th>\n",
       "      <td>D057</td>\n",
       "      <td>18.55931</td>\n",
       "      <td>-72.29703</td>\n",
       "    </tr>\n",
       "    <tr>\n",
       "      <th>169</th>\n",
       "      <td>D058</td>\n",
       "      <td>18.53581</td>\n",
       "      <td>-72.32569</td>\n",
       "    </tr>\n",
       "    <tr>\n",
       "      <th>170</th>\n",
       "      <td>D059</td>\n",
       "      <td>18.53803</td>\n",
       "      <td>-72.32647</td>\n",
       "    </tr>\n",
       "    <tr>\n",
       "      <th>171</th>\n",
       "      <td>D060</td>\n",
       "      <td>18.53883</td>\n",
       "      <td>-72.32622</td>\n",
       "    </tr>\n",
       "    <tr>\n",
       "      <th>172</th>\n",
       "      <td>D061</td>\n",
       "      <td>18.53603</td>\n",
       "      <td>-72.32314</td>\n",
       "    </tr>\n",
       "    <tr>\n",
       "      <th>173</th>\n",
       "      <td>D062</td>\n",
       "      <td>18.53758</td>\n",
       "      <td>-72.32331</td>\n",
       "    </tr>\n",
       "    <tr>\n",
       "      <th>174</th>\n",
       "      <td>D063</td>\n",
       "      <td>18.53661</td>\n",
       "      <td>-72.32475</td>\n",
       "    </tr>\n",
       "    <tr>\n",
       "      <th>175</th>\n",
       "      <td>D064</td>\n",
       "      <td>18.53564</td>\n",
       "      <td>-72.32478</td>\n",
       "    </tr>\n",
       "    <tr>\n",
       "      <th>176</th>\n",
       "      <td>D065</td>\n",
       "      <td>18.531</td>\n",
       "      <td>-72.32256</td>\n",
       "    </tr>\n",
       "    <tr>\n",
       "      <th>177</th>\n",
       "      <td>D066</td>\n",
       "      <td>18.53397</td>\n",
       "      <td>-72.32</td>\n",
       "    </tr>\n",
       "    <tr>\n",
       "      <th>178</th>\n",
       "      <td>D067</td>\n",
       "      <td>18.53408</td>\n",
       "      <td>-72.32275</td>\n",
       "    </tr>\n",
       "    <tr>\n",
       "      <th>179</th>\n",
       "      <td>D078</td>\n",
       "      <td>18.54522</td>\n",
       "      <td>-72.33758</td>\n",
       "    </tr>\n",
       "    <tr>\n",
       "      <th>180</th>\n",
       "      <td>D080</td>\n",
       "      <td>18.53225</td>\n",
       "      <td>-72.33758</td>\n",
       "    </tr>\n",
       "    <tr>\n",
       "      <th>181</th>\n",
       "      <td>D076</td>\n",
       "      <td>18.55464</td>\n",
       "      <td>-72.31942</td>\n",
       "    </tr>\n",
       "  </tbody>\n",
       "</table>\n",
       "<p>182 rows × 3 columns</p>\n",
       "</div>"
      ],
      "text/plain": [
       "    Building  Latitude Longitude\n",
       "0       A001  18.55447 -72.30336\n",
       "1       A002  18.55436 -72.30297\n",
       "2    A003(1)  18.51167 -72.28739\n",
       "3    A003(2)  18.51167 -72.28739\n",
       "4       A005  18.51811 -72.28222\n",
       "5       A006  18.54864 -72.30319\n",
       "6       A007  18.54892 -72.30386\n",
       "7       A008  18.54881 -72.30683\n",
       "8       A009                    \n",
       "9       A010  18.55094 -72.30825\n",
       "10      A011  18.55408 -72.30856\n",
       "11      A012  18.54014 -72.31733\n",
       "12      A013  18.53969 -72.34169\n",
       "13      A014  18.53825 -72.33989\n",
       "14      A015  18.53694 -72.33358\n",
       "15      A016                    \n",
       "16      A017  18.51111 -72.63294\n",
       "17      A018  18.50956 -72.63264\n",
       "18      A019  18.50836 -72.63169\n",
       "19      A020  18.50964 -72.63114\n",
       "20      A021  18.51208 -72.63033\n",
       "21      A022  18.51119 -72.63119\n",
       "22      A023  18.56256 -72.29483\n",
       "23      A024  18.56181 -72.29322\n",
       "24   A025(1)  18.53517 -72.32686\n",
       "25   A025(2)  18.53517 -72.32686\n",
       "26   A025(3)  18.53517 -72.32686\n",
       "27   A025(4)  18.53517 -72.32686\n",
       "28      A026  18.53564 -72.32503\n",
       "29      A027  18.53886 -72.32236\n",
       "..       ...       ...       ...\n",
       "152     D035  18.53986 -72.33892\n",
       "153     D041  18.53589  -72.3315\n",
       "154     D044  18.51533 -72.63406\n",
       "155     D045  18.51544 -72.63503\n",
       "156     D046  18.51281 -72.63436\n",
       "157     D047  18.51311 -72.63442\n",
       "158     D048  18.51028 -72.63189\n",
       "159     D049   18.5105 -72.63161\n",
       "160     D050  18.50964 -72.63114\n",
       "161     D051  18.50836 -72.63125\n",
       "162     D052  18.51308 -72.63014\n",
       "163     D053  18.51264 -72.63097\n",
       "164    D054A  18.50878 -72.62767\n",
       "165    D054B  18.50878 -72.62767\n",
       "166     D055  18.56322 -72.29569\n",
       "167     D056  18.56308 -72.29578\n",
       "168     D057  18.55931 -72.29703\n",
       "169     D058  18.53581 -72.32569\n",
       "170     D059  18.53803 -72.32647\n",
       "171     D060  18.53883 -72.32622\n",
       "172     D061  18.53603 -72.32314\n",
       "173     D062  18.53758 -72.32331\n",
       "174     D063  18.53661 -72.32475\n",
       "175     D064  18.53564 -72.32478\n",
       "176     D065    18.531 -72.32256\n",
       "177     D066  18.53397    -72.32\n",
       "178     D067  18.53408 -72.32275\n",
       "179     D078  18.54522 -72.33758\n",
       "180     D080  18.53225 -72.33758\n",
       "181     D076  18.55464 -72.31942\n",
       "\n",
       "[182 rows x 3 columns]"
      ]
     },
     "execution_count": 29,
     "metadata": {},
     "output_type": "execute_result"
    }
   ],
   "source": [
    "full = haiti.list()\n",
    "columns = ['Building', 'Latitude', 'Longitude']\n",
    "DataFrame([[row[col] for col in columns] for row in full],\n",
    "          columns=columns)"
   ]
  },
  {
   "cell_type": "code",
   "execution_count": 30,
   "metadata": {
    "collapsed": true
   },
   "outputs": [],
   "source": [
    "import jinja2"
   ]
  },
  {
   "cell_type": "code",
   "execution_count": 43,
   "metadata": {
    "collapsed": false
   },
   "outputs": [],
   "source": [
    "from IPython.html.widgets import interact, interactive, fixed\n",
    "from IPython.html import widgets\n",
    "from IPython.display import clear_output, display, HTML\n",
    "import requests"
   ]
  },
  {
   "cell_type": "code",
   "execution_count": 52,
   "metadata": {
    "collapsed": false
   },
   "outputs": [
    {
     "name": "stdout",
     "output_type": "stream",
     "text": [
      "Collecting gmaps\n",
      "  Downloading gmaps-0.1.6.tar.gz (98kB)\n",
      "\u001b[K    100% |████████████████████████████████| 102kB 3.4MB/s \n",
      "\u001b[?25hBuilding wheels for collected packages: gmaps\n",
      "  Running setup.py bdist_wheel for gmaps\n",
      "  Stored in directory: /root/.cache/pip/wheels/fa/aa/18/3bb6bac4a63612f6bb563d781cac880b9d573cdf4a3c28437d\n",
      "Successfully built gmaps\n",
      "Installing collected packages: gmaps\n",
      "Successfully installed gmaps-0.1.6\n"
     ]
    }
   ],
   "source": [
    "!pip install gmaps"
   ]
  },
  {
   "cell_type": "code",
   "execution_count": 53,
   "metadata": {
    "collapsed": false
   },
   "outputs": [
    {
     "data": {
      "application/javascript": [
       "\n",
       "            IPython.load_extensions('gmaps_js/heatmap_view')\n",
       "            "
      ],
      "text/plain": [
       "<IPython.core.display.Javascript object>"
      ]
     },
     "metadata": {},
     "output_type": "display_data"
    }
   ],
   "source": [
    "import gmaps"
   ]
  },
  {
   "cell_type": "code",
   "execution_count": 54,
   "metadata": {
    "collapsed": true
   },
   "outputs": [],
   "source": [
    "data = gmaps.datasets.load_dataset('taxi_rides')"
   ]
  },
  {
   "cell_type": "code",
   "execution_count": 64,
   "metadata": {
    "collapsed": false
   },
   "outputs": [
    {
     "data": {
      "text/plain": [
       "array([(37.782551, -122.445368), (37.782745, -122.444586),\n",
       "       (37.782842, -122.443688), (37.782919, -122.442815),\n",
       "       (37.782992, -122.442112), (37.7831, -122.441461),\n",
       "       (37.783206, -122.440829), (37.783273, -122.440324),\n",
       "       (37.783316, -122.440023), (37.783357, -122.439794),\n",
       "       (37.783371, -122.439687), (37.783368, -122.439666),\n",
       "       (37.783383, -122.439594), (37.783508, -122.439525),\n",
       "       (37.783842, -122.439591), (37.784147, -122.439668),\n",
       "       (37.784206, -122.439686), (37.784386, -122.43979),\n",
       "       (37.784701, -122.439902), (37.784965, -122.439938),\n",
       "       (37.78501, -122.439947), (37.78536, -122.439952),\n",
       "       (37.785715, -122.44003), (37.786117, -122.440119),\n",
       "       (37.786564, -122.440209), (37.786905, -122.44027),\n",
       "       (37.786956, -122.440279), (37.800224, -122.43352),\n",
       "       (37.800155, -122.434101), (37.80016, -122.43443),\n",
       "       (37.800378, -122.434527), (37.800738, -122.434598),\n",
       "       (37.800938, -122.43465), (37.801024, -122.434889),\n",
       "       (37.800955, -122.435392), (37.800886, -122.435959),\n",
       "       (37.800811, -122.436275), (37.800788, -122.436299),\n",
       "       (37.800719, -122.436302), (37.800702, -122.436298),\n",
       "       (37.800661, -122.436273), (37.800395, -122.436172),\n",
       "       (37.800228, -122.436116), (37.800169, -122.43613),\n",
       "       (37.800066, -122.436167), (37.784345, -122.422922),\n",
       "       (37.784389, -122.422926), (37.784437, -122.422924),\n",
       "       (37.784746, -122.422818), (37.785436, -122.422959),\n",
       "       (37.78612, -122.423112), (37.786433, -122.423029),\n",
       "       (37.786631, -122.421213), (37.78666, -122.421033),\n",
       "       (37.786801, -122.420141), (37.786823, -122.420034),\n",
       "       (37.786831, -122.419916), (37.787034, -122.418208),\n",
       "       (37.787056, -122.418034), (37.787169, -122.417145),\n",
       "       (37.787217, -122.416715), (37.786144, -122.416403),\n",
       "       (37.785292, -122.416257), (37.780666, -122.390374),\n",
       "       (37.780501, -122.391281), (37.780148, -122.392052),\n",
       "       (37.780173, -122.391148), (37.780693, -122.390592),\n",
       "       (37.781261, -122.391142), (37.781808, -122.39173),\n",
       "       (37.78234, -122.392341), (37.782812, -122.393022),\n",
       "       (37.7833, -122.393672), (37.783809, -122.394275),\n",
       "       (37.784246, -122.394979), (37.784791, -122.395958),\n",
       "       (37.785675, -122.396746), (37.786262, -122.39578),\n",
       "       (37.786776, -122.395093), (37.787282, -122.394426),\n",
       "       (37.787783, -122.393767), (37.788343, -122.393184),\n",
       "       (37.788895, -122.392506), (37.789371, -122.391701),\n",
       "       (37.789722, -122.390952), (37.790315, -122.390305),\n",
       "       (37.790738, -122.389616), (37.779448, -122.438702),\n",
       "       (37.779023, -122.438585), (37.778542, -122.438492),\n",
       "       (37.7781, -122.438411), (37.777986, -122.438376),\n",
       "       (37.77768, -122.438313), (37.777316, -122.438273),\n",
       "       (37.777135, -122.438254), (37.776987, -122.438303),\n",
       "       (37.776946, -122.438404), (37.776944, -122.438467),\n",
       "       (37.776892, -122.438459), (37.776842, -122.438442),\n",
       "       (37.776822, -122.438391), (37.776814, -122.438412),\n",
       "       (37.776787, -122.438628), (37.776729, -122.43865),\n",
       "       (37.776759, -122.438677), (37.776772, -122.438498),\n",
       "       (37.776787, -122.438389), (37.776848, -122.438283),\n",
       "       (37.77687, -122.438239), (37.777015, -122.438198),\n",
       "       (37.777333, -122.438256), (37.777595, -122.438308),\n",
       "       (37.777797, -122.438344), (37.77816, -122.438442),\n",
       "       (37.778414, -122.438508), (37.778445, -122.438516),\n",
       "       (37.778503, -122.438529), (37.778607, -122.438549),\n",
       "       (37.77867, -122.438644), (37.778847, -122.438706),\n",
       "       (37.77924, -122.438744), (37.779738, -122.438822),\n",
       "       (37.780201, -122.438882), (37.7804, -122.438905),\n",
       "       (37.780501, -122.438921), (37.780892, -122.438986),\n",
       "       (37.781446, -122.439087), (37.781985, -122.439199),\n",
       "       (37.782239, -122.439249), (37.782286, -122.439266),\n",
       "       (37.797847, -122.429388), (37.797874, -122.42918),\n",
       "       (37.797885, -122.429069), (37.797887, -122.42905),\n",
       "       (37.797933, -122.428954), (37.798242, -122.42899),\n",
       "       (37.798617, -122.429075), (37.798719, -122.429092),\n",
       "       (37.798944, -122.429145), (37.79932, -122.429251),\n",
       "       (37.79959, -122.429309), (37.799677, -122.429324),\n",
       "       (37.799966, -122.42936), (37.800288, -122.42943),\n",
       "       (37.800443, -122.429461), (37.800465, -122.429474),\n",
       "       (37.800644, -122.42954), (37.800948, -122.42962),\n",
       "       (37.801242, -122.429685), (37.801375, -122.429702),\n",
       "       (37.8014, -122.429703), (37.801453, -122.429707),\n",
       "       (37.801473, -122.429709), (37.801532, -122.429707),\n",
       "       (37.801852, -122.429729), (37.802173, -122.429789),\n",
       "       (37.802459, -122.429847), (37.802554, -122.429825),\n",
       "       (37.802647, -122.429549), (37.802693, -122.429179),\n",
       "       (37.802729, -122.428751), (37.766104, -122.409291),\n",
       "       (37.766103, -122.409268), (37.766138, -122.409229),\n",
       "       (37.766183, -122.409231), (37.766153, -122.409276),\n",
       "       (37.766005, -122.409365), (37.765897, -122.40957),\n",
       "       (37.765767, -122.409739), (37.765693, -122.410389),\n",
       "       (37.765615, -122.411201), (37.765533, -122.412121),\n",
       "       (37.765467, -122.412939), (37.765444, -122.414821),\n",
       "       (37.765444, -122.414964), (37.765318, -122.415424),\n",
       "       (37.763961, -122.415296), (37.763115, -122.415196),\n",
       "       (37.762967, -122.415183), (37.762278, -122.415127),\n",
       "       (37.761675, -122.415055), (37.760932, -122.414988),\n",
       "       (37.759337, -122.414862), (37.773187, -122.421922),\n",
       "       (37.773043, -122.422118), (37.773007, -122.422165),\n",
       "       (37.772979, -122.422219), (37.772865, -122.422394),\n",
       "       (37.772779, -122.422503), (37.772676, -122.422701),\n",
       "       (37.772606, -122.422806), (37.772566, -122.42284),\n",
       "       (37.772508, -122.422852), (37.772387, -122.423011),\n",
       "       (37.772099, -122.423328), (37.771704, -122.423783),\n",
       "       (37.771481, -122.424081), (37.7714, -122.424179),\n",
       "       (37.771352, -122.42422), (37.771248, -122.424327),\n",
       "       (37.770904, -122.424781), (37.77052, -122.425283),\n",
       "       (37.770337, -122.425553), (37.770128, -122.425832),\n",
       "       (37.769756, -122.426331), (37.7693, -122.426902),\n",
       "       (37.769132, -122.427065), (37.769092, -122.427103),\n",
       "       (37.768979, -122.427172), (37.768595, -122.427634),\n",
       "       (37.768372, -122.427913), (37.768337, -122.427961),\n",
       "       (37.768244, -122.428138), (37.767942, -122.428581),\n",
       "       (37.767482, -122.429094), (37.767031, -122.429606),\n",
       "       (37.766732, -122.429986), (37.76668, -122.430058),\n",
       "       (37.766633, -122.430109), (37.76658, -122.430211),\n",
       "       (37.766367, -122.430594), (37.76591, -122.431137),\n",
       "       (37.765353, -122.431806), (37.764962, -122.432298),\n",
       "       (37.764868, -122.432486), (37.764518, -122.432913),\n",
       "       (37.763435, -122.434173), (37.762847, -122.434953),\n",
       "       (37.762291, -122.435935), (37.762224, -122.436074),\n",
       "       (37.761957, -122.436892), (37.761652, -122.438886),\n",
       "       (37.761284, -122.439955), (37.76121, -122.440068),\n",
       "       (37.761064, -122.44072), (37.76104, -122.441411),\n",
       "       (37.761048, -122.442324), (37.760851, -122.443118),\n",
       "       (37.759977, -122.444591), (37.759913, -122.444698),\n",
       "       (37.759623, -122.445065), (37.758902, -122.445158),\n",
       "       (37.758428, -122.44457), (37.757687, -122.44334),\n",
       "       (37.757583, -122.44324), (37.757019, -122.442787),\n",
       "       (37.756603, -122.442322), (37.75638, -122.441602),\n",
       "       (37.75579, -122.441382), (37.754493, -122.442133),\n",
       "       (37.754361, -122.442206), (37.753719, -122.44265),\n",
       "       (37.753096, -122.442915), (37.751617, -122.443211),\n",
       "       (37.751496, -122.443246), (37.750733, -122.443428),\n",
       "       (37.750126, -122.443536), (37.750103, -122.443784),\n",
       "       (37.75039, -122.44401), (37.750448, -122.444013),\n",
       "       (37.750536, -122.44404), (37.750493, -122.444141),\n",
       "       (37.790859, -122.402808), (37.790864, -122.402768),\n",
       "       (37.790995, -122.402539), (37.791148, -122.402172),\n",
       "       (37.791385, -122.401312), (37.791405, -122.400776),\n",
       "       (37.791288, -122.400528), (37.791113, -122.400441),\n",
       "       (37.791027, -122.400395), (37.791094, -122.400311),\n",
       "       (37.791211, -122.400183), (37.79106, -122.399334),\n",
       "       (37.790538, -122.398718), (37.790095, -122.398086),\n",
       "       (37.789644, -122.39736), (37.789254, -122.396844),\n",
       "       (37.788855, -122.396397), (37.788483, -122.395963),\n",
       "       (37.788015, -122.395365), (37.787558, -122.394735),\n",
       "       (37.787472, -122.394323), (37.78763, -122.394025),\n",
       "       (37.787767, -122.393987), (37.787486, -122.394452),\n",
       "       (37.786977, -122.395043), (37.786583, -122.395552),\n",
       "       (37.78654, -122.39561), (37.786516, -122.395659),\n",
       "       (37.786378, -122.395707), (37.786044, -122.395362),\n",
       "       (37.785598, -122.394715), (37.785321, -122.394361),\n",
       "       (37.785207, -122.394236), (37.785751, -122.394062),\n",
       "       (37.785996, -122.393881), (37.786092, -122.39383),\n",
       "       (37.785998, -122.393899), (37.785114, -122.394365),\n",
       "       (37.785022, -122.394441), (37.784823, -122.394635),\n",
       "       (37.784719, -122.394629), (37.785069, -122.394176),\n",
       "       (37.7855, -122.39365), (37.78577, -122.393291),\n",
       "       (37.785839, -122.393159), (37.782651, -122.400628),\n",
       "       (37.782616, -122.400599), (37.782702, -122.40047),\n",
       "       (37.782915, -122.400192), (37.783137, -122.399887),\n",
       "       (37.783414, -122.399519), (37.783629, -122.399237),\n",
       "       (37.783688, -122.399157), (37.783716, -122.399106),\n",
       "       (37.783798, -122.399072), (37.783997, -122.399186),\n",
       "       (37.784271, -122.399538), (37.784577, -122.399948),\n",
       "       (37.784828, -122.40026), (37.784999, -122.400477),\n",
       "       (37.785113, -122.400651), (37.785155, -122.400703),\n",
       "       (37.785192, -122.400749), (37.785278, -122.400839),\n",
       "       (37.785387, -122.400857), (37.785478, -122.40089),\n",
       "       (37.785526, -122.401022), (37.785598, -122.401148),\n",
       "       (37.785631, -122.401202), (37.78566, -122.401267),\n",
       "       (37.803986, -122.426035), (37.804102, -122.425089),\n",
       "       (37.804211, -122.424156), (37.803861, -122.423385),\n",
       "       (37.803151, -122.423214), (37.802439, -122.423077),\n",
       "       (37.80174, -122.422905), (37.801069, -122.422785),\n",
       "       (37.800345, -122.422649), (37.799633, -122.422603),\n",
       "       (37.79975, -122.4217), (37.799885, -122.420854),\n",
       "       (37.799209, -122.420607), (37.795656, -122.400395),\n",
       "       (37.795203, -122.400304), (37.778738, -122.415584),\n",
       "       (37.778812, -122.415189), (37.778824, -122.415092),\n",
       "       (37.778833, -122.414932), (37.778834, -122.414898),\n",
       "       (37.77874, -122.414757), (37.778501, -122.414433),\n",
       "       (37.778182, -122.414026), (37.777851, -122.413623),\n",
       "       (37.777486, -122.413166), (37.777109, -122.412674),\n",
       "       (37.776743, -122.412186), (37.77644, -122.4118),\n",
       "       (37.776295, -122.411614), (37.776158, -122.41144),\n",
       "       (37.775806, -122.410997), (37.775422, -122.410484),\n",
       "       (37.775126, -122.410087), (37.775012, -122.409854),\n",
       "       (37.775164, -122.409573), (37.775498, -122.40918),\n",
       "       (37.775868, -122.40873), (37.776256, -122.40824),\n",
       "       (37.776519, -122.407928), (37.776539, -122.407904),\n",
       "       (37.776595, -122.407854), (37.776853, -122.407547),\n",
       "       (37.777234, -122.407087), (37.777644, -122.406558),\n",
       "       (37.778066, -122.406017), (37.778468, -122.405499),\n",
       "       (37.778866, -122.404995), (37.779295, -122.404455),\n",
       "       (37.779695, -122.40395), (37.779982, -122.403584),\n",
       "       (37.780295, -122.403223), (37.780664, -122.402766),\n",
       "       (37.781043, -122.402288), (37.781399, -122.401823),\n",
       "       (37.781727, -122.401407), (37.781853, -122.401247),\n",
       "       (37.781894, -122.401195), (37.782076, -122.400977),\n",
       "       (37.782338, -122.400603), (37.782666, -122.400133),\n",
       "       (37.783048, -122.399634), (37.78345, -122.399198),\n",
       "       (37.783791, -122.398998), (37.784177, -122.398959),\n",
       "       (37.784388, -122.398971), (37.784404, -122.399128),\n",
       "       (37.784586, -122.399524), (37.784835, -122.399927),\n",
       "       (37.785116, -122.400307), (37.785282, -122.400539),\n",
       "       (37.785346, -122.400692), (37.765769, -122.407201),\n",
       "       (37.76579, -122.407414), (37.765802, -122.407755),\n",
       "       (37.765791, -122.408219), (37.765763, -122.408759),\n",
       "       (37.765726, -122.409348), (37.765716, -122.409882),\n",
       "       (37.765708, -122.410202), (37.765705, -122.410253),\n",
       "       (37.765707, -122.410369), (37.765692, -122.41072),\n",
       "       (37.765699, -122.411215), (37.765687, -122.411789),\n",
       "       (37.765666, -122.412373), (37.765598, -122.412883),\n",
       "       (37.765543, -122.413039), (37.765532, -122.413125),\n",
       "       (37.7655, -122.413553), (37.765448, -122.414053),\n",
       "       (37.765388, -122.414645), (37.765323, -122.41525),\n",
       "       (37.765303, -122.415847), (37.765251, -122.416439),\n",
       "       (37.765204, -122.41702), (37.765172, -122.417556),\n",
       "       (37.765164, -122.418075), (37.765153, -122.418618),\n",
       "       (37.765136, -122.419112), (37.765129, -122.419378),\n",
       "       (37.765119, -122.419481), (37.7651, -122.419852),\n",
       "       (37.765083, -122.420349), (37.765045, -122.42093),\n",
       "       (37.764992, -122.421481), (37.76498, -122.421695),\n",
       "       (37.764993, -122.421843), (37.764986, -122.422255),\n",
       "       (37.764975, -122.422823), (37.764939, -122.423411),\n",
       "       (37.764902, -122.424014), (37.764853, -122.424576),\n",
       "       (37.764826, -122.424922), (37.764796, -122.425375),\n",
       "       (37.764782, -122.425869), (37.764768, -122.426089),\n",
       "       (37.764766, -122.426117), (37.764723, -122.426276),\n",
       "       (37.764681, -122.426649), (37.782012, -122.4042),\n",
       "       (37.781574, -122.404911), (37.781055, -122.405597),\n",
       "       (37.780479, -122.406341), (37.779996, -122.406939),\n",
       "       (37.779459, -122.407613), (37.778953, -122.408228),\n",
       "       (37.778409, -122.408839), (37.777842, -122.409501),\n",
       "       (37.777334, -122.410181), (37.776809, -122.410836),\n",
       "       (37.77624, -122.411514), (37.775725, -122.412145),\n",
       "       (37.77519, -122.412805), (37.774672, -122.413464),\n",
       "       (37.774084, -122.414186), (37.773533, -122.413636),\n",
       "       (37.773021, -122.413009), (37.772501, -122.412371),\n",
       "       (37.771964, -122.411681), (37.771479, -122.411078),\n",
       "       (37.770992, -122.410477), (37.770467, -122.409801),\n",
       "       (37.77009, -122.408904), (37.769657, -122.408103),\n",
       "       (37.769132, -122.407276), (37.768564, -122.406469),\n",
       "       (37.76798, -122.405745), (37.76738, -122.405299),\n",
       "       (37.766604, -122.405297), (37.765838, -122.4052),\n",
       "       (37.765139, -122.405139), (37.764457, -122.405094),\n",
       "       (37.763716, -122.405142), (37.762932, -122.405398),\n",
       "       (37.762126, -122.405813), (37.761344, -122.406215),\n",
       "       (37.760556, -122.406495), (37.759732, -122.406484),\n",
       "       (37.75891, -122.406228), (37.758182, -122.405695),\n",
       "       (37.757676, -122.405118), (37.757039, -122.404346),\n",
       "       (37.756335, -122.403719), (37.755503, -122.403406),\n",
       "       (37.754665, -122.403242), (37.753837, -122.403172),\n",
       "       (37.752986, -122.403112), (37.751266, -122.403355)], \n",
       "      dtype=[('Latitude', '<f8'), ('Longitude', '<f8')])"
      ]
     },
     "metadata": {},
     "output_type": "display_data"
    }
   ],
   "source": [
    "gmaps."
   ]
  },
  {
   "cell_type": "code",
   "execution_count": 60,
   "metadata": {
    "collapsed": true
   },
   "outputs": [],
   "source": []
  }
 ],
 "metadata": {
  "kernelspec": {
   "display_name": "Python 2",
   "language": "python",
   "name": "python2"
  },
  "language_info": {
   "codemirror_mode": {
    "name": "ipython",
    "version": 2
   },
   "file_extension": ".py",
   "mimetype": "text/x-python",
   "name": "python",
   "nbconvert_exporter": "python",
   "pygments_lexer": "ipython2",
   "version": "2.7.6"
  }
 },
 "nbformat": 4,
 "nbformat_minor": 0
}
